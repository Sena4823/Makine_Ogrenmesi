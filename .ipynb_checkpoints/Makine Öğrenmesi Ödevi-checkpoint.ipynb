{
 "cells": [
  {
   "cell_type": "markdown",
   "id": "a2c63ced",
   "metadata": {},
   "source": [
    "# Chronic Kidney Disease"
   ]
  },
  {
   "cell_type": "markdown",
   "id": "8d463187",
   "metadata": {},
   "source": [
    "Chronic Kidney Disease veri seti, kronik böbrek hastalığı (CKD) ile ilişkili tıbbi ölçümleri ve hasta bilgilerini içeren bir veri setidir. Böbrek hastalığı, böbreklerin atık maddeleri ve fazla sıvıyı kandan yeterince filtreleyemediği durumlarda ortaya çıkar. Bu veri seti, hastaların böbrek fonksiyonlarını değerlendirmek ve hastalık durumunu tahmin etmek için kullanılır."
   ]
  },
  {
   "cell_type": "markdown",
   "id": "bd1922fb",
   "metadata": {},
   "source": [
    "1. Bağımsız Değişkenler (X):\n",
    "\n",
    "Aşağıdaki değişkenler, hastaların böbrek sağlığı ve genel sağlık durumu hakkında bilgi sağlar. Bu değişkenler, GFR'nin (bağımlı değişkenin) tahmin edilmesinde kullanılır.\n",
    "\n",
    "1_Age (Yaş):\n",
    "\n",
    "2_Serum_Creatinine (Serum Kreatinin):\n",
    "    Kanda bulunan kreatinin seviyesi (mg/dL).\n",
    "    Yüksek kreatinin, böbreklerin kötü çalıştığını gösterebilir.\n",
    "    \n",
    "3_BUN (Blood Urea Nitrogen):\n",
    "    Kan üre azotu seviyesi (mg/dL).\n",
    "    Yüksek BUN, böbrek disfonksiyonuna işaret edebilir.\n",
    "    \n",
    "4_Sodium (Sodyum):\n",
    "    Kan sodyum seviyesi (mmol/L).\n",
    "    Böbreklerin tuz dengesi üzerindeki etkisi incelenir.\n",
    "\n",
    "5_Potassium (Potasyum):\n",
    "    Kan potasyum seviyesi (mmol/L).\n",
    "    Potasyum seviyesindeki anormallikler böbrek hastalığının bir işareti olabilir.\n",
    "\n",
    "6_Chloride (Klorür):\n",
    "    Kan klorür seviyesi (mmol/L).\n",
    "    Elektrolit dengesi ve böbrek fonksiyonu üzerinde etkili olabilir.\n",
    "\n",
    "7_Gender"
   ]
  },
  {
   "cell_type": "markdown",
   "id": "ab6b824d",
   "metadata": {},
   "source": [
    "2. Bağımlı Değişken (Y):\n",
    "    \n",
    "Hedef değişken, bağımsız değişkenler kullanılarak tahmin edilmeye çalışılır.\n",
    "\n",
    "GFR (Glomerüler Filtrasyon Hızı):\n",
    "    \n",
    "Böbreklerin filtreleme hızını gösterir (mL/dk/1.73m²).\n",
    "Düşük GFR değeri böbrek fonksiyon bozukluğuna işaret eder."
   ]
  },
  {
   "cell_type": "code",
   "execution_count": 43,
   "id": "29ee9648",
   "metadata": {},
   "outputs": [],
   "source": [
    "import pandas as pd\n",
    "import numpy as np\n",
    "import matplotlib.pyplot as plt\n",
    "from sklearn.preprocessing import PolynomialFeatures\n",
    "from sklearn.linear_model import LinearRegression\n",
    "from sklearn.tree import DecisionTreeRegressor\n",
    "from sklearn.ensemble import RandomForestRegressor\n",
    "from sklearn.metrics import r2_score,mean_absolute_error,mean_absolute_percentage_error,mean_squared_error\n",
    "\n",
    "df=pd.read_csv(\"kidney_disease_dataset.csv\",sep=\",\")"
   ]
  },
  {
   "cell_type": "code",
   "execution_count": 44,
   "id": "b1e81c6f",
   "metadata": {},
   "outputs": [
    {
     "name": "stdout",
     "output_type": "stream",
     "text": [
      "   Patient_ID  Age  Gender  Serum_Creatinine        BUN      Sodium  \\\n",
      "0           1   69    Male          0.746344  12.011655  137.288755   \n",
      "1           2   32  Female          1.063745  11.425032  140.968519   \n",
      "2           3   78  Female          0.661483  14.038299  144.281821   \n",
      "3           4   38  Female          1.038746   9.003886  144.291395   \n",
      "4           5   41    Male          1.275930  14.198249  138.419053   \n",
      "\n",
      "   Potassium    Chloride         GFR  \n",
      "0   4.199876   97.109699  106.581117  \n",
      "1   5.064852  103.416220   93.442259  \n",
      "2   5.485029   95.303538   93.784130  \n",
      "3   3.981341  103.438129  105.886008  \n",
      "4   5.248615   99.603291   98.065846  \n"
     ]
    }
   ],
   "source": [
    "print(df.head())"
   ]
  },
  {
   "cell_type": "code",
   "execution_count": 45,
   "id": "2d4052d1",
   "metadata": {},
   "outputs": [
    {
     "name": "stdout",
     "output_type": "stream",
     "text": [
      "<class 'pandas.core.frame.DataFrame'>\n",
      "RangeIndex: 299 entries, 0 to 298\n",
      "Data columns (total 9 columns):\n",
      " #   Column            Non-Null Count  Dtype  \n",
      "---  ------            --------------  -----  \n",
      " 0   Patient_ID        299 non-null    int64  \n",
      " 1   Age               299 non-null    int64  \n",
      " 2   Gender            299 non-null    object \n",
      " 3   Serum_Creatinine  299 non-null    float64\n",
      " 4   BUN               299 non-null    float64\n",
      " 5   Sodium            299 non-null    float64\n",
      " 6   Potassium         299 non-null    float64\n",
      " 7   Chloride          299 non-null    float64\n",
      " 8   GFR               299 non-null    float64\n",
      "dtypes: float64(6), int64(2), object(1)\n",
      "memory usage: 21.2+ KB\n",
      "None\n"
     ]
    }
   ],
   "source": [
    "print(df.info())"
   ]
  },
  {
   "cell_type": "code",
   "execution_count": 46,
   "id": "898b8cb5",
   "metadata": {},
   "outputs": [
    {
     "name": "stdout",
     "output_type": "stream",
     "text": [
      "       Patient_ID         Age  Serum_Creatinine         BUN      Sodium  \\\n",
      "count  299.000000  299.000000        299.000000  299.000000  299.000000   \n",
      "mean   150.000000   50.775920          0.909313   13.548600  139.889691   \n",
      "std     86.458082   19.888109          0.245498    4.296200    2.962817   \n",
      "min      1.000000   18.000000          0.504607    7.001751  130.000000   \n",
      "25%     75.500000   34.000000          0.705336   10.556650  137.311664   \n",
      "50%    150.000000   50.000000          0.916766   13.355672  139.845380   \n",
      "75%    224.500000   68.500000          1.081996   16.898434  142.550311   \n",
      "max    299.000000   84.000000          2.500000   50.000000  144.995577   \n",
      "\n",
      "        Potassium    Chloride         GFR  \n",
      "count  299.000000  299.000000  299.000000  \n",
      "mean     4.527042   99.901652  104.480611  \n",
      "std      0.571743    2.947192    9.404979  \n",
      "min      2.500000   95.098276   40.000000  \n",
      "25%      4.037959   97.290098   97.088361  \n",
      "50%      4.525749   99.920017  104.837912  \n",
      "75%      5.010155  102.311235  112.431767  \n",
      "max      5.493899  110.000000  119.956824  \n"
     ]
    }
   ],
   "source": [
    "print(df.describe())"
   ]
  },
  {
   "cell_type": "code",
   "execution_count": 47,
   "id": "fd5a060a",
   "metadata": {},
   "outputs": [
    {
     "name": "stdout",
     "output_type": "stream",
     "text": [
      "0\n"
     ]
    }
   ],
   "source": [
    "print(df.isnull().sum().sum())"
   ]
  },
  {
   "cell_type": "code",
   "execution_count": 48,
   "id": "35750bf5",
   "metadata": {},
   "outputs": [],
   "source": [
    "df.drop(\"Patient_ID\",inplace=True,axis=1)"
   ]
  },
  {
   "cell_type": "code",
   "execution_count": 49,
   "id": "62284b3a",
   "metadata": {},
   "outputs": [
    {
     "name": "stdout",
     "output_type": "stream",
     "text": [
      "0      False\n",
      "1      False\n",
      "2      False\n",
      "3      False\n",
      "4      False\n",
      "       ...  \n",
      "294    False\n",
      "295    False\n",
      "296    False\n",
      "297    False\n",
      "298    False\n",
      "Length: 299, dtype: bool\n"
     ]
    }
   ],
   "source": [
    "print(df.duplicated())"
   ]
  },
  {
   "cell_type": "code",
   "execution_count": 50,
   "id": "61deaa88",
   "metadata": {},
   "outputs": [
    {
     "name": "stdout",
     "output_type": "stream",
     "text": [
      "   Age  Serum_Creatinine        BUN      Sodium  Potassium    Chloride  \\\n",
      "0   69          0.746344  12.011655  137.288755   4.199876   97.109699   \n",
      "1   32          1.063745  11.425032  140.968519   5.064852  103.416220   \n",
      "2   78          0.661483  14.038299  144.281821   5.485029   95.303538   \n",
      "3   38          1.038746   9.003886  144.291395   3.981341  103.438129   \n",
      "4   41          1.275930  14.198249  138.419053   5.248615   99.603291   \n",
      "\n",
      "          GFR  Gender_Female  Gender_Male  \n",
      "0  106.581117          False         True  \n",
      "1   93.442259           True        False  \n",
      "2   93.784130           True        False  \n",
      "3  105.886008           True        False  \n",
      "4   98.065846          False         True  \n"
     ]
    }
   ],
   "source": [
    "df=pd.get_dummies(df,columns=[\"Gender\"])\n",
    "print(df.head())"
   ]
  },
  {
   "cell_type": "code",
   "execution_count": 51,
   "id": "45e7c957",
   "metadata": {},
   "outputs": [
    {
     "name": "stdout",
     "output_type": "stream",
     "text": [
      "   Age  Serum_Creatinine        BUN      Sodium  Potassium    Chloride  \\\n",
      "0   69          0.746344  12.011655  137.288755   4.199876   97.109699   \n",
      "1   32          1.063745  11.425032  140.968519   5.064852  103.416220   \n",
      "2   78          0.661483  14.038299  144.281821   5.485029   95.303538   \n",
      "3   38          1.038746   9.003886  144.291395   3.981341  103.438129   \n",
      "4   41          1.275930  14.198249  138.419053   5.248615   99.603291   \n",
      "\n",
      "          GFR  Gender_Female  Gender_Male  \n",
      "0  106.581117              0            1  \n",
      "1   93.442259              1            0  \n",
      "2   93.784130              1            0  \n",
      "3  105.886008              1            0  \n",
      "4   98.065846              0            1  \n"
     ]
    }
   ],
   "source": [
    "df['Gender_Female'] = df['Gender_Female'].astype(int)\n",
    "df['Gender_Male'] = df['Gender_Male'].astype(int)\n",
    "print(df.head())"
   ]
  },
  {
   "cell_type": "code",
   "execution_count": 52,
   "id": "ce447591",
   "metadata": {},
   "outputs": [
    {
     "name": "stdout",
     "output_type": "stream",
     "text": [
      "          Age  Serum_Creatinine       BUN    Sodium  Potassium  Chloride  \\\n",
      "0    0.917867          0.664941  0.358345  0.879331   0.573185  0.948914   \n",
      "1    0.945660          0.630110  0.495118  0.364733   0.942228  1.194513   \n",
      "2    1.371157          1.011190  0.114175  1.484902   1.678367  1.562783   \n",
      "3    0.643467          0.528111  1.059619  1.488139   0.956051  1.201960   \n",
      "4    0.492370          1.495863  0.151468  0.497197   1.264175  0.101405   \n",
      "..        ...               ...       ...       ...        ...       ...   \n",
      "294  0.693832          0.670413  0.738674  1.144398   1.377600  1.126026   \n",
      "295  1.572619          0.366416  0.090714  1.619777   1.562464  0.462572   \n",
      "296  1.298220          0.050270  1.351506  0.142855   0.737609  0.563022   \n",
      "297  0.895295          0.279272  1.376231  0.042425   1.455142  0.160117   \n",
      "298  0.996026          1.243411  1.330568  0.819209   0.290774  0.635427   \n",
      "\n",
      "          GFR  Gender_Female  Gender_Male  \n",
      "0    0.223714       0.932068     0.932068  \n",
      "1    1.175639       1.072884     1.072884  \n",
      "2    1.139228       1.072884     1.072884  \n",
      "3    0.149682       1.072884     1.072884  \n",
      "4    0.683204       0.932068     0.932068  \n",
      "..        ...            ...          ...  \n",
      "294  0.073662       1.072884     1.072884  \n",
      "295  0.827813       0.932068     0.932068  \n",
      "296  1.440270       1.072884     1.072884  \n",
      "297  0.441219       1.072884     1.072884  \n",
      "298  1.027887       0.932068     0.932068  \n",
      "\n",
      "[299 rows x 9 columns]\n"
     ]
    }
   ],
   "source": [
    "from scipy import stats\n",
    "import numpy as np\n",
    "#Z-skoru, bir verinin ortalamadan kaç standart sapma uzaklıkta olduğunu gösteren bir ölçüdür.\n",
    "z=np.abs(stats.zscore(df))\n",
    "print(z)"
   ]
  },
  {
   "cell_type": "code",
   "execution_count": 53,
   "id": "59db903e",
   "metadata": {},
   "outputs": [
    {
     "name": "stdout",
     "output_type": "stream",
     "text": [
      "(array([ 5, 15, 25, 35, 45, 55], dtype=int64), array([1, 2, 3, 4, 5, 6], dtype=int64))\n"
     ]
    }
   ],
   "source": [
    "print(np.where (z>3))"
   ]
  },
  {
   "cell_type": "code",
   "execution_count": 54,
   "id": "ded3495c",
   "metadata": {},
   "outputs": [
    {
     "name": "stdout",
     "output_type": "stream",
     "text": [
      "Index([5, 15, 25, 35, 45, 55], dtype='int64')\n"
     ]
    }
   ],
   "source": [
    "selected=df.iloc[np.where (z>3)[0]].index\n",
    "print(selected)"
   ]
  },
  {
   "cell_type": "code",
   "execution_count": 55,
   "id": "523d5335",
   "metadata": {},
   "outputs": [],
   "source": [
    "dfN=df.drop(selected,axis=0,inplace=True)"
   ]
  },
  {
   "cell_type": "code",
   "execution_count": 56,
   "id": "bf3acdba",
   "metadata": {},
   "outputs": [
    {
     "name": "stdout",
     "output_type": "stream",
     "text": [
      "(293, 9)\n"
     ]
    }
   ],
   "source": [
    "dfN=df\n",
    "print(dfN.shape)"
   ]
  },
  {
   "cell_type": "code",
   "execution_count": 57,
   "id": "4ecd05af",
   "metadata": {},
   "outputs": [
    {
     "name": "stdout",
     "output_type": "stream",
     "text": [
      "        Age  Serum_Creatinine       BUN    Sodium  Potassium  Chloride  \\\n",
      "0  0.772727          0.304101  0.386271  0.228472   0.350861  0.203617   \n",
      "1  0.212121          0.703385  0.341042  0.596852   0.784771  0.842030   \n",
      "2  0.909091          0.197347  0.542528  0.928546   0.995551  0.020779   \n",
      "3  0.303030          0.671937  0.154368  0.929505   0.241234  0.844247   \n",
      "4  0.348485          0.970310  0.554861  0.341626   0.876955  0.456045   \n",
      "\n",
      "        GFR  Gender_Female  Gender_Male  \n",
      "0  0.550863            0.0          1.0  \n",
      "1  0.109678            1.0          0.0  \n",
      "2  0.121158            1.0          0.0  \n",
      "3  0.527522            1.0          0.0  \n",
      "4  0.264932            0.0          1.0  \n"
     ]
    }
   ],
   "source": [
    "dfN=(dfN-dfN.min())/(dfN.max()-dfN.min())\n",
    "print(dfN.head())"
   ]
  },
  {
   "cell_type": "code",
   "execution_count": 69,
   "id": "2a72933a",
   "metadata": {},
   "outputs": [],
   "source": [
    "y=dfN.loc[:,\"GFR\"].values\n",
    "x=dfN.drop(\"GFR\",axis=1)"
   ]
  },
  {
   "cell_type": "markdown",
   "id": "3c69029a",
   "metadata": {},
   "source": [
    "## Multiple linear regression"
   ]
  },
  {
   "cell_type": "code",
   "execution_count": 71,
   "id": "3a754281",
   "metadata": {},
   "outputs": [
    {
     "name": "stdout",
     "output_type": "stream",
     "text": [
      "mlr r2 -0.06625093209531463\n",
      "mlr mae 0.2566608690868629\n",
      "mlr mape 3.729760970493711\n",
      "mlr mse 0.08848005128772532\n",
      "mlr rmse 0.297455965291882\n"
     ]
    }
   ],
   "source": [
    "from sklearn.metrics import r2_score,mean_absolute_error,mean_absolute_percentage_error,mean_squared_error\n",
    "from sklearn.model_selection import train_test_split\n",
    "from sklearn.linear_model import LinearRegression\n",
    "\n",
    "x_train, x_test, y_train, y_test = train_test_split(x, y, test_size=0.2, random_state=42)\n",
    "\n",
    "mlr=LinearRegression()\n",
    "mlr.fit(x_train,y_train)\n",
    "mlr_pred=mlr.predict(x_test)\n",
    "\n",
    "print(\"mlr r2\",r2_score(y_test,mlr_pred))\n",
    "print(\"mlr mae\",mean_absolute_error(y_test,mlr_pred))\n",
    "print(\"mlr mape\",mean_absolute_percentage_error(y_test,mlr_pred))\n",
    "print(\"mlr mse\",mean_squared_error(y_test,mlr_pred))\n",
    "print(\"mlr rmse\",(mean_squared_error(y_test,mlr_pred))**0.5)"
   ]
  },
  {
   "cell_type": "markdown",
   "id": "99dbf760",
   "metadata": {},
   "source": [
    "## Polynomial Linear Regression"
   ]
  },
  {
   "cell_type": "code",
   "execution_count": 73,
   "id": "845e54d5",
   "metadata": {},
   "outputs": [
    {
     "name": "stdout",
     "output_type": "stream",
     "text": [
      "plr r2 -1.3143753860157825\n",
      "plr mae 0.36958675357746057\n",
      "plr mape 4.976778136454151\n",
      "plr mse 0.19205240219702815\n",
      "plr rmse 0.43823783747758266\n"
     ]
    }
   ],
   "source": [
    "from sklearn.preprocessing import PolynomialFeatures\n",
    "\n",
    "poly = PolynomialFeatures(degree=3)\n",
    "x_train_poly = poly.fit_transform(x_train)\n",
    "x_test_poly = poly.transform(x_test)\n",
    "\n",
    "plr= LinearRegression()\n",
    "plr.fit(x_train_poly, y_train)\n",
    "\n",
    "pol_pred = plr.predict(x_test_poly)\n",
    "\n",
    "print(\"plr r2\",r2_score(y_test,pol_pred))\n",
    "print(\"plr mae\",mean_absolute_error(y_test,pol_pred))\n",
    "print(\"plr mape\",mean_absolute_percentage_error(y_test,pol_pred))\n",
    "print(\"plr mse\",mean_squared_error(y_test,pol_pred))\n",
    "print(\"plr rmse\",(mean_squared_error(y_test,pol_pred))**0.5)"
   ]
  },
  {
   "cell_type": "markdown",
   "id": "b95b237b",
   "metadata": {},
   "source": [
    "## Decision Tree Regression"
   ]
  },
  {
   "cell_type": "code",
   "execution_count": 74,
   "id": "9df2cb3b",
   "metadata": {},
   "outputs": [
    {
     "name": "stdout",
     "output_type": "stream",
     "text": [
      "dt r2 -1.5311406180471292\n",
      "dt mae 0.3806623939673449\n",
      "dt mape 5.615405854084821\n",
      "dt mse 0.21004009934242654\n",
      "dt rmse 0.4583013193767028\n"
     ]
    }
   ],
   "source": [
    "from sklearn.tree import DecisionTreeRegressor\n",
    "\n",
    "dt=DecisionTreeRegressor()\n",
    "dt.fit(x_train,y_train)\n",
    "dt_pred=dt.predict(x_test)\n",
    "\n",
    "print(\"dt r2\",r2_score(y_test,dt_pred))\n",
    "print(\"dt mae\",mean_absolute_error(y_test,dt_pred))\n",
    "print(\"dt mape\",mean_absolute_percentage_error(y_test,dt_pred))\n",
    "print(\"dt mse\",mean_squared_error(y_test,dt_pred))\n",
    "print(\"dt rmse\",(mean_squared_error(y_test,dt_pred))**0.5)"
   ]
  },
  {
   "cell_type": "markdown",
   "id": "2b168441",
   "metadata": {},
   "source": [
    "## Random forest Regression"
   ]
  },
  {
   "cell_type": "code",
   "execution_count": 75,
   "id": "7a57f527",
   "metadata": {},
   "outputs": [
    {
     "name": "stdout",
     "output_type": "stream",
     "text": [
      "rf r2 -0.2335376211352722\n",
      "rf mae 0.2789488083065021\n",
      "rf mape 3.943469499922558\n",
      "rf mse 0.10236190065401132\n",
      "rf rmse 0.31994046423359973\n"
     ]
    }
   ],
   "source": [
    "from sklearn.ensemble import RandomForestRegressor\n",
    "\n",
    "rf=RandomForestRegressor(n_estimators=100,random_state=42)\n",
    "rf.fit(x_train,y_train.ravel())\n",
    "rf_pred=rf.predict(x_test)\n",
    "\n",
    "print(\"rf r2\",r2_score(y_test,rf_pred))\n",
    "print(\"rf mae\",mean_absolute_error(y_test,rf_pred))\n",
    "print(\"rf mape\",mean_absolute_percentage_error(y_test,rf_pred))\n",
    "print(\"rf mse\",mean_squared_error(y_test,rf_pred))\n",
    "print(\"rf rmse\",(mean_squared_error(y_test,rf_pred))**0.5)"
   ]
  },
  {
   "cell_type": "code",
   "execution_count": null,
   "id": "7bea61d8",
   "metadata": {},
   "outputs": [],
   "source": []
  }
 ],
 "metadata": {
  "kernelspec": {
   "display_name": "Python 3 (ipykernel)",
   "language": "python",
   "name": "python3"
  },
  "language_info": {
   "codemirror_mode": {
    "name": "ipython",
    "version": 3
   },
   "file_extension": ".py",
   "mimetype": "text/x-python",
   "name": "python",
   "nbconvert_exporter": "python",
   "pygments_lexer": "ipython3",
   "version": "3.11.5"
  }
 },
 "nbformat": 4,
 "nbformat_minor": 5
}
